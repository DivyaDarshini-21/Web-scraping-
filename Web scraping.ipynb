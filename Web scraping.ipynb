{
 "cells": [
  {
   "cell_type": "code",
   "execution_count": 1,
   "id": "69d89a62",
   "metadata": {},
   "outputs": [],
   "source": [
    "from bs4 import BeautifulSoup\n",
    "import requests\n",
    "from csv import writer\n"
   ]
  },
  {
   "cell_type": "code",
   "execution_count": 2,
   "id": "151306cd",
   "metadata": {},
   "outputs": [],
   "source": [
    "url= \"https://www.pararius.com/apartments/amsterdam?ac=1\"\n",
    "page = requests.get(url)"
   ]
  },
  {
   "cell_type": "code",
   "execution_count": 3,
   "id": "8e4bcfff",
   "metadata": {},
   "outputs": [],
   "source": [
    "soup = BeautifulSoup(page.content, 'html.parser')\n",
    "lists = soup.find_all('section', class_=\"listing-search-item\")"
   ]
  },
  {
   "cell_type": "code",
   "execution_count": 8,
   "id": "ea96429f",
   "metadata": {},
   "outputs": [
    {
     "name": "stdout",
     "output_type": "stream",
     "text": [
      "['\\n            \\n            Apartment Sprinklerstraat\\n\\n                            ', '\\n            1019 VR Amsterdam (Indische Buurt Oost)\\n        ', '\\n                €2,500 per month\\n            ', '\\n\\n94 m²\\n3 rooms\\nFurnished\\n\\n']\n",
      "['\\n            \\n            Apartment Veldhuizenstraat\\n\\n                            ', '\\n            1106 DH Amsterdam (Gein)\\n        ', '\\n                €1,500 per month\\n            ', '\\n\\n82 m²\\n4 rooms\\nFurnished\\n\\n']\n",
      "['\\n            \\n            Apartment Pieter Calandlaan\\n\\n                            ', '\\n            1069 SC Amsterdam (Osdorp-Midden)\\n        ', '\\n                €1,750 per month\\n            ', '\\n\\n90 m²\\n3 rooms\\nFurnished\\n\\n']\n",
      "['\\n            \\n            Apartment Rustenburgerstraat 146 A22\\n\\n                            ', '\\n            1073 GJ Amsterdam (Nieuwe Pijp)\\n        ', '\\n                €2,150 per month\\n            ', '\\n\\n55 m²\\n3 rooms\\nFurnished\\n\\n']\n",
      "['\\n            \\n            Apartment Groen van Prinstererstraat\\n\\n                            ', '\\n            1051 EH Amsterdam (Staatsliedenbuurt)\\n        ', '\\n                €2,400 per month\\n            ', '\\n\\n73 m²\\n3 rooms\\nFurnished\\n\\n']\n",
      "['\\n            \\n            Apartment Korte Ouderkerkerdijk 1 W2\\n\\n                            ', '\\n            1096 AC Amsterdam (Omval/Overamstel)\\n        ', '\\n                €10,500 per month\\n            ', '\\n\\n196 m²\\n4 rooms\\nUpholstered\\n\\n']\n",
      "['\\n            \\n            Apartment Dusartstraat\\n\\n                            ', '\\n            1072 HV Amsterdam (Nieuwe Pijp)\\n        ', '\\n                €2,500 per month\\n            ', '\\n\\n75 m²\\n3 rooms\\nUpholstered\\n\\n']\n",
      "['\\n            \\n            Apartment Rheastraat 24\\n\\n                            ', '\\n            1076 DS Amsterdam (Stadionbuurt)\\n        ', '\\n                €2,750 per month\\n            ', '\\n\\n125 m²\\n3 rooms\\nFurnished\\n\\n']\n",
      "['\\n            \\n            Apartment Tolstraat 42 1\\n\\n                            ', '\\n            1073 SC Amsterdam (Zuid Pijp)\\n        ', '\\n                €1,850 per month\\n            ', '\\n\\n45 m²\\n2 rooms\\nFurnished\\n\\n']\n",
      "['\\n            \\n            Apartment Gillis van Ledenberchstraat\\n\\n                            ', '\\n            1052 VG Amsterdam (Frederik Hendrikbuurt)\\n        ', '\\n                €1,850 per month\\n            ', '\\n\\n76 m²\\n3 rooms\\nFurnished\\n\\n']\n",
      "['\\n            \\n            Apartment Willem Nakkenstraat\\n\\n                            ', '\\n            1061 SZ Amsterdam (Overtoomse Veld)\\n        ', '\\n                €2,150 per month\\n            ', '\\n\\n90 m²\\n5 rooms\\nUpholstered\\n\\n']\n",
      "['\\n            \\n            Apartment Banstraat 55 II\\n\\n                            ', '\\n            1071 JX Amsterdam (Museumkwartier)\\n        ', '\\n                €2,100 per month\\n            ', '\\n\\n75 m²\\n2 rooms\\nUpholstered or furnished\\n\\n']\n",
      "['\\n            \\n            Apartment Prinsengracht 533 II\\n\\n                            ', '\\n            1016 HS Amsterdam (Grachtengordel-West)\\n        ', '\\n                €2,150 per month\\n            ', '\\n\\n51 m²\\n3 rooms\\nUpholstered or furnished\\n\\n']\n",
      "['\\n            \\n            Apartment Oudezijds Achterburgwal 145 I\\n\\n                            ', '\\n            1012 DG Amsterdam (Burgwallen-Oude Zijde)\\n        ', '\\n                €1,975 per month\\n            ', '\\n\\n50 m²\\n2 rooms\\nUpholstered or furnished\\n\\n']\n",
      "['\\n            \\n            Studio Sarphatistraat\\n\\n                            ', '\\n            1018 AV Amsterdam (Weesperbuurt/Plantage)\\n        ', '\\n                €1,250 per month\\n            ', '\\n\\n25 m²\\n1 room\\nFurnished\\n\\n']\n",
      "['\\n            \\n            Apartment NDSM-pier\\n\\n                            ', '\\n            1033 RE Amsterdam (Noordelijke IJ-oevers West)\\n        ', '\\n                €1,740 per month\\n            ', '\\n\\n65 m²\\n4 rooms\\nUpholstered\\n\\n']\n",
      "['\\n            \\n            Apartment NDSM-pier\\n\\n                            ', '\\n            1033 RE Amsterdam (Noordelijke IJ-oevers West)\\n        ', '\\n                €2,450 per month\\n            ', '\\n\\n110 m²\\n4 rooms\\nUpholstered\\n\\n']\n",
      "['\\n            \\n            Apartment NDSM-pier\\n\\n                            ', '\\n            1033 RE Amsterdam (Noordelijke IJ-oevers West)\\n        ', '\\n                €3,400 per month\\n            ', '\\n\\n129 m²\\n4 rooms\\nUpholstered\\n\\n']\n",
      "['\\n            \\n            House H. Stolleplantsoen\\n\\n                            ', '\\n            1022 KK Amsterdam (Elzenhagen)\\n        ', '\\n                €2,650 per month\\n            ', '\\n\\n185 m²\\n7 rooms\\nUpholstered\\n\\n']\n",
      "['\\n            \\n            Apartment Nieuwe Herengracht\\n\\n                            ', '\\n            1011 RP Amsterdam (Nieuwmarkt/Lastage)\\n        ', '\\n                €1,600 per month\\n            ', '\\n\\n47 m²\\n3 rooms\\nFurnished\\n\\n']\n",
      "['\\n            \\n            Apartment Keizersgracht 633 A\\n\\n                            ', '\\n            1017 DS Amsterdam (Grachtengordel-Zuid)\\n        ', '\\n                €3,400 per month\\n            ', '\\n\\n54 m²\\n2 rooms\\nUpholstered\\n\\n']\n",
      "['\\n            \\n            Apartment Herenstraat 4 D\\n\\n                            ', '\\n            1015 CA Amsterdam (Grachtengordel-West)\\n        ', '\\n                €1,995 per month\\n            ', '\\n\\n55 m²\\n2 rooms\\nFurnished\\n\\n']\n",
      "['\\n            \\n            Apartment Herengracht 449 B\\n\\n                            ', '\\n            1017 BR Amsterdam (Grachtengordel-Zuid)\\n        ', '\\n                €3,850 per month\\n            ', '\\n\\n200 m²\\n5 rooms\\nUpholstered\\n\\n']\n",
      "['\\n            \\n            Apartment Alexanderkade\\n\\n                            ', '\\n            1018 ZC Amsterdam (Oostelijke Eilanden/Kadijken)\\n        ', '\\n                €2,500 per month\\n            ', '\\n\\n102 m²\\n5 rooms\\nFurnished\\n\\n']\n",
      "['\\n            \\n            Apartment Johannes Verhulststraat 157 3\\n\\n                            ', '\\n            1075 GW Amsterdam (Willemspark)\\n        ', '\\n                €5,500 per month\\n            ', '\\n\\n168 m²\\n4 rooms\\nFurnished\\n\\n']\n",
      "['\\n            \\n            Apartment Blasiusstraat\\n\\n                            ', '\\n            1091 CR Amsterdam (Weesperzijde)\\n        ', '\\n                €2,400 per month\\n            ', '\\n\\n66 m²\\n3 rooms\\nFurnished\\n\\n']\n",
      "['\\n            \\n            Apartment Nova Zemblastraat\\n\\n                            ', '\\n            1013 RJ Amsterdam (Spaarndammer- en Zeeheldenbuurt)\\n        ', '\\n                €1,950 per month\\n            ', '\\n\\n60 m²\\n2 rooms\\nFurnished\\n\\n']\n",
      "['\\n            \\n            Apartment Jennerstraat\\n\\n                            ', '\\n            1097 GB Amsterdam (Frankendael)\\n        ', '\\n                €2,300 per month\\n            ', '\\n\\n108 m²\\n6 rooms\\n1960-1970\\n\\n']\n",
      "['\\n            \\n            Apartment Jacob van Lennepkade\\n\\n                            ', '\\n            1054 ZT Amsterdam (Overtoomse Sluis)\\n        ', '\\n                €2,075 per month\\n            ', '\\n\\n65 m²\\n2 rooms\\nFurnished\\n\\n']\n",
      "['\\n            \\n            Apartment Lauriergracht 142 A\\n\\n                            ', '\\n            1016 RT Amsterdam (Jordaan)\\n        ', '\\n                €2,450 per month\\n            ', '\\n\\n53 m²\\n2 rooms\\nFurnished\\n\\n']\n"
     ]
    }
   ],
   "source": [
    "for list in lists:\n",
    "        title = list.find('a', class_=\"listing-search-item__link--title\").text\n",
    "        location = list.find('div', class_=\"listing-search-item__sub-title\").text\n",
    "        price = list.find('div', class_=\"listing-search-item__price\").text\n",
    "        area = list.find('div', class_=\"listing-search-item__features\").text\n",
    "        info = [title , location , price , area]\n",
    "        print(info)"
   ]
  },
  {
   "cell_type": "code",
   "execution_count": 9,
   "id": "5411d0e5",
   "metadata": {},
   "outputs": [
    {
     "name": "stdout",
     "output_type": "stream",
     "text": [
      "['                        Apartment Sprinklerstraat                            ', '            1019 VR Amsterdam (Indische Buurt Oost)        ', '                €2,500 per month            ', '94 m²3 roomsFurnished']\n",
      "['                        Apartment Veldhuizenstraat                            ', '            1106 DH Amsterdam (Gein)        ', '                €1,500 per month            ', '82 m²4 roomsFurnished']\n",
      "['                        Apartment Pieter Calandlaan                            ', '            1069 SC Amsterdam (Osdorp-Midden)        ', '                €1,750 per month            ', '90 m²3 roomsFurnished']\n",
      "['                        Apartment Rustenburgerstraat 146 A22                            ', '            1073 GJ Amsterdam (Nieuwe Pijp)        ', '                €2,150 per month            ', '55 m²3 roomsFurnished']\n",
      "['                        Apartment Groen van Prinstererstraat                            ', '            1051 EH Amsterdam (Staatsliedenbuurt)        ', '                €2,400 per month            ', '73 m²3 roomsFurnished']\n",
      "['                        Apartment Korte Ouderkerkerdijk 1 W2                            ', '            1096 AC Amsterdam (Omval/Overamstel)        ', '                €10,500 per month            ', '196 m²4 roomsUpholstered']\n",
      "['                        Apartment Dusartstraat                            ', '            1072 HV Amsterdam (Nieuwe Pijp)        ', '                €2,500 per month            ', '75 m²3 roomsUpholstered']\n",
      "['                        Apartment Rheastraat 24                            ', '            1076 DS Amsterdam (Stadionbuurt)        ', '                €2,750 per month            ', '125 m²3 roomsFurnished']\n",
      "['                        Apartment Tolstraat 42 1                            ', '            1073 SC Amsterdam (Zuid Pijp)        ', '                €1,850 per month            ', '45 m²2 roomsFurnished']\n",
      "['                        Apartment Gillis van Ledenberchstraat                            ', '            1052 VG Amsterdam (Frederik Hendrikbuurt)        ', '                €1,850 per month            ', '76 m²3 roomsFurnished']\n",
      "['                        Apartment Willem Nakkenstraat                            ', '            1061 SZ Amsterdam (Overtoomse Veld)        ', '                €2,150 per month            ', '90 m²5 roomsUpholstered']\n",
      "['                        Apartment Banstraat 55 II                            ', '            1071 JX Amsterdam (Museumkwartier)        ', '                €2,100 per month            ', '75 m²2 roomsUpholstered or furnished']\n",
      "['                        Apartment Prinsengracht 533 II                            ', '            1016 HS Amsterdam (Grachtengordel-West)        ', '                €2,150 per month            ', '51 m²3 roomsUpholstered or furnished']\n",
      "['                        Apartment Oudezijds Achterburgwal 145 I                            ', '            1012 DG Amsterdam (Burgwallen-Oude Zijde)        ', '                €1,975 per month            ', '50 m²2 roomsUpholstered or furnished']\n",
      "['                        Studio Sarphatistraat                            ', '            1018 AV Amsterdam (Weesperbuurt/Plantage)        ', '                €1,250 per month            ', '25 m²1 roomFurnished']\n",
      "['                        Apartment NDSM-pier                            ', '            1033 RE Amsterdam (Noordelijke IJ-oevers West)        ', '                €1,740 per month            ', '65 m²4 roomsUpholstered']\n",
      "['                        Apartment NDSM-pier                            ', '            1033 RE Amsterdam (Noordelijke IJ-oevers West)        ', '                €2,450 per month            ', '110 m²4 roomsUpholstered']\n",
      "['                        Apartment NDSM-pier                            ', '            1033 RE Amsterdam (Noordelijke IJ-oevers West)        ', '                €3,400 per month            ', '129 m²4 roomsUpholstered']\n",
      "['                        House H. Stolleplantsoen                            ', '            1022 KK Amsterdam (Elzenhagen)        ', '                €2,650 per month            ', '185 m²7 roomsUpholstered']\n",
      "['                        Apartment Nieuwe Herengracht                            ', '            1011 RP Amsterdam (Nieuwmarkt/Lastage)        ', '                €1,600 per month            ', '47 m²3 roomsFurnished']\n",
      "['                        Apartment Keizersgracht 633 A                            ', '            1017 DS Amsterdam (Grachtengordel-Zuid)        ', '                €3,400 per month            ', '54 m²2 roomsUpholstered']\n",
      "['                        Apartment Herenstraat 4 D                            ', '            1015 CA Amsterdam (Grachtengordel-West)        ', '                €1,995 per month            ', '55 m²2 roomsFurnished']\n",
      "['                        Apartment Herengracht 449 B                            ', '            1017 BR Amsterdam (Grachtengordel-Zuid)        ', '                €3,850 per month            ', '200 m²5 roomsUpholstered']\n",
      "['                        Apartment Alexanderkade                            ', '            1018 ZC Amsterdam (Oostelijke Eilanden/Kadijken)        ', '                €2,500 per month            ', '102 m²5 roomsFurnished']\n",
      "['                        Apartment Johannes Verhulststraat 157 3                            ', '            1075 GW Amsterdam (Willemspark)        ', '                €5,500 per month            ', '168 m²4 roomsFurnished']\n",
      "['                        Apartment Blasiusstraat                            ', '            1091 CR Amsterdam (Weesperzijde)        ', '                €2,400 per month            ', '66 m²3 roomsFurnished']\n",
      "['                        Apartment Nova Zemblastraat                            ', '            1013 RJ Amsterdam (Spaarndammer- en Zeeheldenbuurt)        ', '                €1,950 per month            ', '60 m²2 roomsFurnished']\n",
      "['                        Apartment Jennerstraat                            ', '            1097 GB Amsterdam (Frankendael)        ', '                €2,300 per month            ', '108 m²6 rooms1960-1970']\n",
      "['                        Apartment Jacob van Lennepkade                            ', '            1054 ZT Amsterdam (Overtoomse Sluis)        ', '                €2,075 per month            ', '65 m²2 roomsFurnished']\n",
      "['                        Apartment Lauriergracht 142 A                            ', '            1016 RT Amsterdam (Jordaan)        ', '                €2,450 per month            ', '53 m²2 roomsFurnished']\n"
     ]
    }
   ],
   "source": [
    "for list in lists:\n",
    "        title = list.find('a', class_=\"listing-search-item__link--title\").text.replace('\\n', '')\n",
    "        location = list.find('div', class_=\"listing-search-item__sub-title\").text.replace('\\n', '')\n",
    "        price = list.find('div', class_=\"listing-search-item__price\").text.replace('\\n', '')\n",
    "        area = list.find('div', class_=\"listing-search-item__features\").text.replace('\\n', '')\n",
    "        info = [title , location , price , area]\n",
    "        print(info)"
   ]
  },
  {
   "cell_type": "code",
   "execution_count": 10,
   "id": "7c0c1fdc",
   "metadata": {},
   "outputs": [],
   "source": [
    "with open('housing.csv', 'w', encoding='utf8', newline='') as f:\n",
    "    thewriter = writer(f)\n",
    "    header = ['Title', 'Location', 'Price', 'Area']\n",
    "    thewriter.writerow(header)\n",
    "    for list in lists:\n",
    "        title = list.find('a', class_=\"listing-search-item__link--title\").text.replace('\\n', '')\n",
    "        location = list.find('div', class_=\"listing-search-item__sub-title\").text.replace('\\n', '')\n",
    "        price = list.find('div', class_=\"listing-search-item__price\").text.replace('\\n', '')\n",
    "        area = list.find('div', class_=\"listing-search-item__features\").text.replace('\\n', '')\n",
    "        info = [title , location , price , area]\n",
    "        \n",
    "        thewriter.writerow(info)\n",
    "        "
   ]
  }
 ],
 "metadata": {
  "kernelspec": {
   "display_name": "Python 3 (ipykernel)",
   "language": "python",
   "name": "python3"
  },
  "language_info": {
   "codemirror_mode": {
    "name": "ipython",
    "version": 3
   },
   "file_extension": ".py",
   "mimetype": "text/x-python",
   "name": "python",
   "nbconvert_exporter": "python",
   "pygments_lexer": "ipython3",
   "version": "3.9.12"
  }
 },
 "nbformat": 4,
 "nbformat_minor": 5
}
